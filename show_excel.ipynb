{
 "cells": [
  {
   "cell_type": "markdown",
   "id": "7b9bc821",
   "metadata": {},
   "source": [
    "# pandasでExcelからデータを取得\n",
    "pandasのread_excel関数を使用することで必要なExcelファイルを読み込むことができます。\n",
    "\n",
    "基本操作記事\n",
    "+ [データ分析で頻出のPandas基本操作](https://qiita.com/ysdyt/items/9ccca82fc5b504e7913a)\n",
    "(ざっくりと何ができるか紹介しています)"
   ]
  },
  {
   "cell_type": "code",
   "execution_count": null,
   "id": "2c95b435",
   "metadata": {},
   "outputs": [],
   "source": [
    "import pandas as pd\n",
    "import numpy as np\n",
    "xls = pd.read_excel(\"./abcd.xls\",header=None,sheet_name=\"BB\");\n",
    "xls"
   ]
  },
  {
   "cell_type": "code",
   "execution_count": null,
   "id": "15b39cac",
   "metadata": {},
   "outputs": [],
   "source": [
    "#カード情報\n",
    "idx = 18\n",
    "num = idx + 1\n",
    "row = xls.values[idx,:]\n",
    "key = row[7]\n",
    "key_hurigana = row[8]\n",
    "content_head = \" \".join(row[2].split())\n",
    "content_tail = \" \".join(row[3].split())\n",
    "writer_name = row[0]\n",
    "\n"
   ]
  },
  {
   "cell_type": "code",
   "execution_count": null,
   "id": "8c877e8f",
   "metadata": {},
   "outputs": [],
   "source": [
    "#クラス化\n",
    "class Card100:\n",
    "    def __init__(self,card_num,xls):\n",
    "        idx = card_num - 1\n",
    "        row = xls.values[idx,:]\n",
    "        self.card_num = card_num\n",
    "        self.key = row[7]\n",
    "        self.key_hurigana = row[8]\n",
    "        self.content_head = \" \".join(row[2].split())\n",
    "        self.content_tail = \" \".join(row[3].split())\n",
    "        self.writer_name = row[0]"
   ]
  },
  {
   "cell_type": "code",
   "execution_count": null,
   "id": "0b3526b7",
   "metadata": {},
   "outputs": [],
   "source": [
    "#1番目(0行目)のカードを表示する\n",
    "xls.values[0,:]"
   ]
  },
  {
   "cell_type": "code",
   "execution_count": null,
   "id": "dba07438",
   "metadata": {},
   "outputs": [],
   "source": [
    "#作家名(1列目)を取得する\n",
    "xls.values[:,0]"
   ]
  },
  {
   "cell_type": "code",
   "execution_count": null,
   "id": "dbc38024",
   "metadata": {},
   "outputs": [],
   "source": [
    "#1番2番3番の作家名を取得\n",
    "xls.values[(0,1,2),0]"
   ]
  },
  {
   "cell_type": "code",
   "execution_count": null,
   "id": "88f5d989",
   "metadata": {},
   "outputs": [],
   "source": [
    "#作家名で検索 (replace(\" \",\"\")は空白の除去です)\n",
    "authors = [xls.values[np.where(xls.values == a)[0][0],:] for a in list(xls.values[:,0]) if \"天智天皇\" == a.replace(\" \",\"\")]\n",
    "authors"
   ]
  },
  {
   "cell_type": "code",
   "execution_count": null,
   "id": "96e6b7fc",
   "metadata": {},
   "outputs": [],
   "source": [
    "#作家名の名字で検索(大から始まる人)\n",
    "authors = [a.replace(\" \",\"\") for a in list(xls.values[:,0]) if a.replace(\" \",\"\").startswith(\"大\")]\n",
    "print(f\"始まる人 {authors}\")\n",
    "\n",
    "#大臣で終わる人の場合\n",
    "authors = [a.replace(\" \",\"\") for a in list(xls.values[:,0]) if a.replace(\" \",\"\").endswith(\"大臣\")]\n",
    "print(f\"終わる人 {authors}\")"
   ]
  },
  {
   "cell_type": "code",
   "execution_count": null,
   "id": "ac96f3f8",
   "metadata": {},
   "outputs": [],
   "source": []
  }
 ],
 "metadata": {
  "kernelspec": {
   "display_name": "Python 3 (ipykernel)",
   "language": "python",
   "name": "python3"
  },
  "language_info": {
   "codemirror_mode": {
    "name": "ipython",
    "version": 3
   },
   "file_extension": ".py",
   "mimetype": "text/x-python",
   "name": "python",
   "nbconvert_exporter": "python",
   "pygments_lexer": "ipython3",
   "version": "3.9.7"
  }
 },
 "nbformat": 4,
 "nbformat_minor": 5
}
