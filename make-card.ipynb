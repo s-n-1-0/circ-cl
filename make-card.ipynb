{
 "cells": [
  {
   "cell_type": "code",
   "execution_count": null,
   "id": "2c95b435",
   "metadata": {},
   "outputs": [],
   "source": [
    "import pandas as pd\n",
    "xls = pd.read_excel(\"./abcd.xls\",header=None,sheet_name=\"BB\");\n",
    "xls"
   ]
  },
  {
   "cell_type": "code",
   "execution_count": null,
   "id": "15b39cac",
   "metadata": {},
   "outputs": [],
   "source": [
    "#カード情報\n",
    "idx = 18\n",
    "num = idx - 1\n",
    "row = xls.values[idx,:]\n",
    "key = row[7]\n",
    "key_hurigana = row[8]\n",
    "content_head = \" \".join(row[2].split())\n",
    "content_tail = \" \".join(row[3].split())\n",
    "writer_name = row[0]\n",
    "\n"
   ]
  },
  {
   "cell_type": "code",
   "execution_count": null,
   "id": "8c877e8f",
   "metadata": {},
   "outputs": [],
   "source": [
    "class Card100:\n",
    "    def __init__(self,card_num,xls):\n",
    "        idx = card_num + 1\n",
    "        row = xls.values[idx,:]\n",
    "        self.card_num = card_num\n",
    "        self.key = row[7]\n",
    "        self.key_hurigana = row[8]\n",
    "        self.content_head = \" \".join(row[2].split())\n",
    "        self.content_tail = \" \".join(row[3].split())\n",
    "        self.writer_name = row[0]"
   ]
  },
  {
   "cell_type": "code",
   "execution_count": null,
   "id": "76666847",
   "metadata": {},
   "outputs": [],
   "source": [
    "import tkinter as tk"
   ]
  }
 ],
 "metadata": {
  "kernelspec": {
   "display_name": "Python 3 (ipykernel)",
   "language": "python",
   "name": "python3"
  },
  "language_info": {
   "codemirror_mode": {
    "name": "ipython",
    "version": 3
   },
   "file_extension": ".py",
   "mimetype": "text/x-python",
   "name": "python",
   "nbconvert_exporter": "python",
   "pygments_lexer": "ipython3",
   "version": "3.9.7"
  }
 },
 "nbformat": 4,
 "nbformat_minor": 5
}
