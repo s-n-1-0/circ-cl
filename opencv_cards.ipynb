{
 "cells": [
  {
   "cell_type": "markdown",
   "id": "e88f7114",
   "metadata": {},
   "source": [
    "# OpenCVを使ったトランプカード認識\n",
    "\n",
    "## matplotlib\n",
    "matplotlibはグラフ描画が可能なライブラリです。(opencvとは別のライブラリです)"
   ]
  },
  {
   "cell_type": "markdown",
   "id": "e77f1609",
   "metadata": {},
   "source": [
    "### Import"
   ]
  },
  {
   "cell_type": "code",
   "execution_count": null,
   "id": "7a1566b1",
   "metadata": {},
   "outputs": [],
   "source": [
    "import matplotlib.pyplot as plt\n",
    "import numpy as np"
   ]
  },
  {
   "cell_type": "markdown",
   "id": "8969b168",
   "metadata": {},
   "source": [
    "### 棒グラフを表示"
   ]
  },
  {
   "cell_type": "code",
   "execution_count": null,
   "id": "06ca90f8",
   "metadata": {},
   "outputs": [],
   "source": [
    "x = np.array(range(100))\n",
    "\n",
    "plt.plot(x,x)"
   ]
  },
  {
   "cell_type": "code",
   "execution_count": null,
   "id": "ca4210f2",
   "metadata": {},
   "outputs": [],
   "source": [
    "y = x**2\n",
    "\n",
    "plt.plot(x,y)"
   ]
  },
  {
   "cell_type": "markdown",
   "id": "5204453b",
   "metadata": {},
   "source": [
    "### 散布図"
   ]
  },
  {
   "cell_type": "code",
   "execution_count": null,
   "id": "f7c24448",
   "metadata": {},
   "outputs": [],
   "source": [
    "x = np.random.rand(50)\n",
    "y = np.random.rand(50)\n",
    "plt.scatter(x, y)"
   ]
  },
  {
   "cell_type": "markdown",
   "id": "b7374df7",
   "metadata": {},
   "source": [
    "### 画像を表示"
   ]
  },
  {
   "cell_type": "code",
   "execution_count": null,
   "id": "1153552a",
   "metadata": {},
   "outputs": [],
   "source": [
    "img = np.array([[[0,0,0],\n",
    "            [0,255,0],\n",
    "            [0,0,0]],\n",
    "           [[0,0,0],\n",
    "            [0,255,0],\n",
    "            [0,0,0]],\n",
    "           [[0,0,0],\n",
    "            [0,255,0],\n",
    "            [0,0,0]]])\n",
    "img = img.transpose(2,1,0)\n",
    "plt.imshow(img)"
   ]
  },
  {
   "cell_type": "markdown",
   "id": "49f8a45f",
   "metadata": {},
   "source": [
    "## OpenCV\n",
    "opencvは画像処理・解析用ライブラリです。\n",
    "\n",
    "次のリンクが基本操作としてわかりやすいです。\n",
    "+ [OpenCV 入門：画像処理・画像認識・機械学習の実装を徹底解説（全実装コード公開）](https://www.codexa.net/opencv_python_introduction/)\n",
    "\n",
    "### Installation\n",
    "標準でインストールされてないはずなのでpipコマンドでインストールします。\n",
    "\n",
    "`pip install opencv-python`"
   ]
  },
  {
   "cell_type": "markdown",
   "id": "454c359b",
   "metadata": {},
   "source": [
    "### トランプ認識"
   ]
  },
  {
   "cell_type": "code",
   "execution_count": null,
   "id": "baae8baf",
   "metadata": {},
   "outputs": [],
   "source": [
    "import cv2"
   ]
  },
  {
   "cell_type": "code",
   "execution_count": null,
   "id": "277ca1c0",
   "metadata": {},
   "outputs": [],
   "source": [
    "img = cv2.imread(\"cards.jpg\")\n",
    "pltimg = cv2.cvtColor(img, cv2.COLOR_BGR2RGB) #BGR -> RGB\n",
    "plt.xticks([]) #軸の非表示 \n",
    "plt.yticks([]) #軸の非表示 \n",
    "plt.imshow(pltimg)"
   ]
  },
  {
   "cell_type": "markdown",
   "id": "05cecdf6",
   "metadata": {},
   "source": [
    "### グレースケール処理\n",
    "+ [【OpenCV】色空間HSVとグレースケール](https://progzakki.sanachan.com/program-lang/python/python-opencv-color-space-and-grayscale/)"
   ]
  },
  {
   "cell_type": "code",
   "execution_count": null,
   "id": "bd94f82d",
   "metadata": {},
   "outputs": [],
   "source": [
    "gimg = cv2.cvtColor(img, cv2.COLOR_BGR2GRAY)\n",
    "def cv2_imshow(img):\n",
    "    cv2.imshow(\"img\",img)\n",
    "    cv2.waitKey(0)\n",
    "    cv2.destroyAllWindows()\n",
    "\n",
    "cv2_imshow(gimg) #グレースケール処理をした画像を表示"
   ]
  },
  {
   "cell_type": "markdown",
   "id": "e8b51b8d",
   "metadata": {},
   "source": [
    "### 閾値処理\n",
    "目的の図形以外を排除します\n",
    "+ [画像のしきい値処理](http://labs.eecs.tottori-u.ac.jp/sd/Member/oyamada/OpenCV/html/py_tutorials/py_imgproc/py_thresholding/py_thresholding.html)"
   ]
  },
  {
   "cell_type": "code",
   "execution_count": null,
   "id": "62bacf0f",
   "metadata": {},
   "outputs": [],
   "source": [
    "_, threshold = cv2.threshold(gimg, 200, 255, cv2.THRESH_BINARY)\n",
    "cv2_imshow(threshold)"
   ]
  },
  {
   "cell_type": "markdown",
   "id": "5cfa537f",
   "metadata": {},
   "source": [
    "### 輪郭を抽出"
   ]
  },
  {
   "cell_type": "code",
   "execution_count": null,
   "id": "6acbb043",
   "metadata": {},
   "outputs": [],
   "source": [
    "contours,_ = cv2.findContours(threshold, cv2.RETR_TREE, cv2.CHAIN_APPROX_SIMPLE)\n",
    "contour_img = img.copy()\n",
    "for cnt in contours:\n",
    "    area = cv2.contourArea(cnt)\n",
    "    if area < 10000:\n",
    "        approx = cv2.approxPolyDP(cnt, 0.01*cv2.arcLength(cnt, True), True) #輪郭の近似度合を指定\n",
    "        cv2.drawContours(contour_img, [approx],0, (255,0,0), 2)\n",
    "\n",
    "cv2_imshow(contour_img)"
   ]
  },
  {
   "cell_type": "markdown",
   "id": "2b685fab",
   "metadata": {},
   "source": [
    "## 文字認識(OCR)\n",
    "\n",
    "### Tesseract\n",
    "OCRエンジン(Google開発)  \n",
    "**Installation**  \n",
    "`conda install -c conda-forge tesseract`\n",
    "\n",
    "### pyocr\n",
    "↑のエンジンをPythonで使えるようにするライブラリ  \n",
    "**Installation**  \n",
    "`conda install -c conda-forge pyocr`\n",
    "\n",
    "### Import"
   ]
  },
  {
   "cell_type": "code",
   "execution_count": null,
   "id": "f72c40eb",
   "metadata": {},
   "outputs": [],
   "source": [
    "import pyocr\n",
    "import pyocr.builders\n",
    "from PIL import Image\n",
    "import os\n",
    "TESSDATA_PATH = 'C:\\\\Users\\\\__\\\\jupyter\\\\circ\\\\tessdata'\n",
    "os.environ[\"TESSDATA_PREFIX\"] = TESSDATA_PATH\n",
    "    "
   ]
  },
  {
   "cell_type": "code",
   "execution_count": null,
   "id": "6a465d3d",
   "metadata": {},
   "outputs": [],
   "source": [
    "tools = pyocr.get_available_tools()\n",
    "tool = tools[0]\n",
    "langs = tool.get_available_languages()\n",
    "langs"
   ]
  },
  {
   "cell_type": "markdown",
   "id": "84eb0dbe",
   "metadata": {},
   "source": [
    "### OpenCVのデータをpyocrに対応させる\n",
    "+ 参考: https://stackoverflow.com/questions/30404756/how-to-pass-opencv-image-to-tesseract-in-python"
   ]
  },
  {
   "cell_type": "code",
   "execution_count": null,
   "id": "f3c4b666",
   "metadata": {},
   "outputs": [],
   "source": [
    "pil_threshold = Image.fromarray(img)\n",
    "print(f\"{type(threshold)}から\")\n",
    "print(type(pil_threshold))"
   ]
  },
  {
   "cell_type": "code",
   "execution_count": null,
   "id": "1c0e7d5a",
   "metadata": {},
   "outputs": [],
   "source": [
    "res = tool.image_to_string(\n",
    "    pil_threshold,lang=\"eng\",\n",
    "    builder=pyocr.builders.DigitBuilder(tesseract_layout=6)\n",
    "    )\n",
    "print(res[0])"
   ]
  }
 ],
 "metadata": {
  "kernelspec": {
   "display_name": "Python 3 (ipykernel)",
   "language": "python",
   "name": "python3"
  },
  "language_info": {
   "codemirror_mode": {
    "name": "ipython",
    "version": 3
   },
   "file_extension": ".py",
   "mimetype": "text/x-python",
   "name": "python",
   "nbconvert_exporter": "python",
   "pygments_lexer": "ipython3",
   "version": "3.9.7"
  }
 },
 "nbformat": 4,
 "nbformat_minor": 5
}
