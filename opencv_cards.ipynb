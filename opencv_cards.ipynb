{
 "cells": [
  {
   "cell_type": "markdown",
   "id": "e867ce27",
   "metadata": {},
   "source": [
    "# OpenCVを使ったトランプカード認識\n",
    "\n",
    "## matplotlib\n",
    "matplotlibはグラフ描画が可能なライブラリです。(opencvとは別のライブラリです)"
   ]
  },
  {
   "cell_type": "markdown",
   "id": "49639186",
   "metadata": {},
   "source": [
    "### Import"
   ]
  },
  {
   "cell_type": "code",
   "execution_count": null,
   "id": "df23f810",
   "metadata": {},
   "outputs": [],
   "source": [
    "import matplotlib.pyplot as plt\n",
    "import numpy as np"
   ]
  },
  {
   "cell_type": "markdown",
   "id": "fc39f2f2",
   "metadata": {},
   "source": [
    "### 棒グラフを表示"
   ]
  },
  {
   "cell_type": "code",
   "execution_count": null,
   "id": "0c61c6d2",
   "metadata": {},
   "outputs": [],
   "source": [
    "x = np.array(range(100))\n",
    "\n",
    "plt.plot(x,x)"
   ]
  },
  {
   "cell_type": "code",
   "execution_count": null,
   "id": "b7305bb4",
   "metadata": {},
   "outputs": [],
   "source": [
    "y = x**2\n",
    "\n",
    "plt.plot(x,y)"
   ]
  },
  {
   "cell_type": "markdown",
   "id": "7f776add",
   "metadata": {},
   "source": [
    "### 散布図"
   ]
  },
  {
   "cell_type": "code",
   "execution_count": null,
   "id": "0b10b24d",
   "metadata": {},
   "outputs": [],
   "source": [
    "x = np.random.rand(50)\n",
    "y = np.random.rand(50)\n",
    "plt.scatter(x, y)"
   ]
  },
  {
   "cell_type": "markdown",
   "id": "9c115333",
   "metadata": {},
   "source": [
    "### 画像を表示"
   ]
  },
  {
   "cell_type": "code",
   "execution_count": null,
   "id": "321202c9",
   "metadata": {},
   "outputs": [],
   "source": [
    "img = np.array([[[0,0,0],\n",
    "            [0,255,0],\n",
    "            [0,0,0]],\n",
    "           [[0,0,0],\n",
    "            [0,255,0],\n",
    "            [0,0,0]],\n",
    "           [[0,0,0],\n",
    "            [0,255,0],\n",
    "            [0,0,0]]])\n",
    "img = img.transpose(2,1,0)\n",
    "plt.imshow(img)"
   ]
  }
 ],
 "metadata": {
  "kernelspec": {
   "display_name": "Python 3 (ipykernel)",
   "language": "python",
   "name": "python3"
  },
  "language_info": {
   "codemirror_mode": {
    "name": "ipython",
    "version": 3
   },
   "file_extension": ".py",
   "mimetype": "text/x-python",
   "name": "python",
   "nbconvert_exporter": "python",
   "pygments_lexer": "ipython3",
   "version": "3.9.7"
  }
 },
 "nbformat": 4,
 "nbformat_minor": 5
}
