{
 "cells": [
  {
   "cell_type": "markdown",
   "id": "68df937c",
   "metadata": {},
   "source": [
    "<この上にdnn説明>"
   ]
  },
  {
   "cell_type": "markdown",
   "id": "1fdd6b3b",
   "metadata": {
    "collapsed": true
   },
   "source": [
    "# CNNを使ったトランプ記号♡♢♤♧分類"
   ]
  },
  {
   "cell_type": "markdown",
   "id": "979a801a",
   "metadata": {},
   "source": [
    "### TensorFlow\n",
    "現在一般的な機械学習ライブラリです(Google開発)\n",
    "\n",
    "**Installation**\n",
    "+ [AnacondaでのTensorFlow環境構築と基礎的な使い方](https://miyabi-lab.space/blog/19)\n",
    "\n",
    "### CNN\n",
    "簡単に言うと畳み込みをする層を加えたDNNです。(TensorFlowを使えば簡単に実装できます)\n",
    "+ [定番のConvolutional Neural Networkをゼロから理解する](https://deepage.net/deep_learning/2016/11/07/convolutional_neural_network.html)  \n",
    "※理解するためには特に複数の書籍や記事を読むことを推奨します。\n",
    "\n",
    "今回はCNNを用いて画像分類を行います。"
   ]
  },
  {
   "cell_type": "markdown",
   "id": "67806772",
   "metadata": {},
   "source": [
    "### 画像の読み込み\n",
    "学習用画像データセットとしてkaggleの[Playing Cards](https://www.kaggle.com/datasets/jamesmcguigan/playingcards?resource=download)データセットを使用します。"
   ]
  },
  {
   "cell_type": "code",
   "execution_count": null,
   "id": "97df2b2a",
   "metadata": {},
   "outputs": [],
   "source": [
    "from glob import glob\n",
    "import os\n",
    "import cv2\n",
    "import matplotlib.pyplot as plt\n",
    "import numpy as np\n",
    "dir_path = \"./archive\"\n",
    "file_paths = glob(dir_path + \"/*.png\")\n",
    "print(cv2.imread(f\"{dir_path}/2C.png\").shape)\n",
    "print(cv2.imread(f\"{dir_path}/2C.png\",cv2.IMREAD_GRAYSCALE).shape)\n",
    "for file_path in file_paths:\n",
    "    img = cv2.imread(file_path)\n",
    "    pltimg = cv2.cvtColor(img, cv2.COLOR_BGR2RGB) #BGR -> RGB\n",
    "    plt.xticks([]) #軸の非表示 \n",
    "    plt.yticks([]) #軸の非表示 \n",
    "    plt.imshow(pltimg)\n",
    "    plt.show()"
   ]
  },
  {
   "cell_type": "markdown",
   "id": "7ca60feb",
   "metadata": {},
   "source": [
    "### リサイズ + グレースケール処理\n",
    "手順をわかりやすくするため一度保存します"
   ]
  },
  {
   "cell_type": "code",
   "execution_count": null,
   "id": "b322fd3e",
   "metadata": {},
   "outputs": [],
   "source": [
    "export_path = \"./archive_gray\"\n",
    "os.mkdir(export_path)\n",
    "for file_path in file_paths:\n",
    "    img = cv2.imread(file_path)\n",
    "    gimg = cv2.cvtColor(img, cv2.COLOR_BGR2GRAY)\n",
    "    gimg = cv2.resize(gimg,dsize=(200,200))\n",
    "    file_name = os.path.basename(file_path)\n",
    "    cv2.imwrite(f\"{export_path}/{file_name}\", gimg)"
   ]
  },
  {
   "cell_type": "markdown",
   "id": "342251eb",
   "metadata": {},
   "source": [
    "### 使用しない画像の除外 + ファイル名をパスから抽出"
   ]
  },
  {
   "cell_type": "code",
   "execution_count": null,
   "id": "5c219d6a",
   "metadata": {},
   "outputs": [],
   "source": [
    "export_file_paths = glob(export_path + \"/*.png\")\n",
    "export_file_names = [os.path.splitext(os.path.basename(ef_path))[0] for ef_path in export_file_paths if len(os.path.splitext(os.path.basename(ef_path))[0]) <= 3] #学習に使用しないファイルを除外\n",
    "export_file_names"
   ]
  },
  {
   "cell_type": "markdown",
   "id": "dcb281a6",
   "metadata": {},
   "source": [
    "### 画像-ラベルペアの生成\n",
    "ここからtensorflow\n",
    "参考\n",
    "+ [データ拡張（Data Augmentation）徹底入門！Pythonとkerasでデータ拡張を実装しよう](https://www.codexa.net/data_augmentation_python_keras/)\n",
    "\n",
    "+ x_lstに画像データ\n",
    "+ y_lstにラベルデータ(テキスト)\n",
    "\n",
    "ラベルデータは最終的にベクトルで表します。  \n",
    "例えば\n",
    "\n",
    "+ ♡ :(1,0,0,0)\n",
    "+ ♤ :(0,1,0,0)\n",
    "+ ♢ :(0,0,1,0)\n",
    "+ ♧ :(0,0,0,1)"
   ]
  },
  {
   "cell_type": "code",
   "execution_count": null,
   "id": "86824e84",
   "metadata": {},
   "outputs": [],
   "source": [
    "from keras.utils import np_utils\n",
    "from tensorflow.keras.models import Sequential\n",
    "from tensorflow.keras.layers import Conv2D,MaxPool2D,Dense, Activation, Dropout, Flatten\n",
    "from tensorflow.keras.optimizers import Adam\n",
    "from keras.preprocessing.image import ImageDataGenerator\n",
    "x_lst = []\n",
    "y_lst = []\n",
    "for export_file_name in export_file_names:\n",
    "    img = cv2.imread(f\"{export_path}/{export_file_name}.png\",cv2.IMREAD_GRAYSCALE)\n",
    "    label_key = export_file_name[-1] # C or D or H or S それぞれ記号の頭文字\n",
    "    x_lst.append(img)\n",
    "    if label_key == \"H\":\n",
    "        y_lst.append(0)\n",
    "    elif label_key == \"S\":\n",
    "        y_lst.append(1)\n",
    "    elif label_key == \"D\":\n",
    "        y_lst.append(2)\n",
    "    elif label_key == \"C\":\n",
    "        y_lst.append(3)\n",
    "\n",
    "plt_idx = 0\n",
    "print(y_lst[plt_idx])\n",
    "pltimg = cv2.cvtColor(x_lst[plt_idx], cv2.COLOR_BGR2RGB) #BGR -> RGB\n",
    "plt.xticks([]) #軸の非表示 \n",
    "plt.yticks([]) #軸の非表示 \n",
    "plt.imshow(pltimg)\n",
    "plt.show()\n",
    "\n",
    "##-----\n",
    "\n",
    "x_train = np.array([x_lst[:-5]]).transpose(1,2,3,0)\n",
    "x_valid = np.array([x_lst[-5:]]).transpose(1,2,3,0)\n",
    "y_train = np_utils.to_categorical(y_lst[:-5], 4)\n",
    "y_valid = np_utils.to_categorical(y_lst[-5:], 4)\n",
    "\n",
    "x_train.shape"
   ]
  },
  {
   "cell_type": "markdown",
   "id": "7c4d3630",
   "metadata": {},
   "source": [
    "### モデル作成"
   ]
  },
  {
   "cell_type": "code",
   "execution_count": null,
   "id": "185ec6f2",
   "metadata": {},
   "outputs": [],
   "source": [
    "model = Sequential()\n",
    "model.add(Conv2D(32,3,input_shape=(200,200,1)))\n",
    "model.add(Activation('relu'))\n",
    "model.add(Conv2D(32,3))\n",
    "model.add(Activation('relu'))\n",
    "model.add(MaxPool2D(pool_size=(2,2)))\n",
    "model.add(Conv2D(64,3))\n",
    "model.add(Activation('relu'))\n",
    "model.add(MaxPool2D(pool_size=(2,2)))\n",
    "model.add(Flatten())\n",
    "model.add(Dense(1024))\n",
    "model.add(Activation('relu'))\n",
    "model.add(Dropout(0.5))\n",
    "model.add(Dense(4, activation='softmax'))\n",
    "adam = Adam(learning_rate=1e-4)\n",
    "\n",
    "model.compile(optimizer=adam, loss='categorical_crossentropy', metrics=[\"accuracy\"])"
   ]
  },
  {
   "cell_type": "code",
   "execution_count": null,
   "id": "7e9ad017",
   "metadata": {},
   "outputs": [],
   "source": [
    "train_datagen = ImageDataGenerator(rescale = 1./255)\n",
    "train_generator = train_datagen.flow(x_train, y_train, batch_size = 32, seed = 0)\n",
    "valid_datagen = ImageDataGenerator(rescale = 1./255)\n",
    "valid_generator = valid_datagen.flow(x_valid, y_valid, batch_size = 32, seed=0)"
   ]
  },
  {
   "cell_type": "markdown",
   "id": "0511e576",
   "metadata": {},
   "source": [
    "### 学習"
   ]
  },
  {
   "cell_type": "code",
   "execution_count": null,
   "id": "0ca74434",
   "metadata": {},
   "outputs": [],
   "source": [
    "result = model.fit(train_generator,steps_per_epoch=len(x_train) / 32, epochs=30)"
   ]
  },
  {
   "cell_type": "markdown",
   "id": "6033a522",
   "metadata": {},
   "source": [
    "### 予測(画像分類)"
   ]
  },
  {
   "cell_type": "code",
   "execution_count": null,
   "id": "1db416bb",
   "metadata": {},
   "outputs": [],
   "source": [
    "idx = 2\n",
    "print(model.predict(np.array([x_valid[idx]])))\n",
    "print(y_valid[idx])\n",
    "pltimg = cv2.cvtColor(x_valid[idx], cv2.COLOR_BGR2RGB) #BGR -> RGB\n",
    "plt.xticks([]) #軸の非表示 \n",
    "plt.yticks([]) #軸の非表示 \n",
    "plt.imshow(pltimg)\n",
    "plt.show()"
   ]
  }
 ],
 "metadata": {
  "kernelspec": {
   "display_name": "Python 3 (ipykernel)",
   "language": "python",
   "name": "python3"
  },
  "language_info": {
   "codemirror_mode": {
    "name": "ipython",
    "version": 3
   },
   "file_extension": ".py",
   "mimetype": "text/x-python",
   "name": "python",
   "nbconvert_exporter": "python",
   "pygments_lexer": "ipython3",
   "version": "3.9.7"
  }
 },
 "nbformat": 4,
 "nbformat_minor": 5
}
